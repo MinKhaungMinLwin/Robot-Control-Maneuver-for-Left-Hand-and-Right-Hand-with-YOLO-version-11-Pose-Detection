{
 "cells": [
  {
   "cell_type": "code",
   "execution_count": null,
   "metadata": {},
   "outputs": [
    {
     "name": "stdout",
     "output_type": "stream",
     "text": [
      "Error: Unable to access the webcam.\n"
     ]
    },
    {
     "ename": "",
     "evalue": "",
     "output_type": "error",
     "traceback": [
      "\u001b[1;31mThe Kernel crashed while executing code in the current cell or a previous cell. \n",
      "\u001b[1;31mPlease review the code in the cell(s) to identify a possible cause of the failure. \n",
      "\u001b[1;31mClick <a href='https://aka.ms/vscodeJupyterKernelCrash'>here</a> for more info. \n",
      "\u001b[1;31mView Jupyter <a href='command:jupyter.viewOutput'>log</a> for further details."
     ]
    }
   ],
   "source": [
    "import cv2\n",
    "import os\n",
    "import numpy as np\n",
    "from ultralytics import YOLO\n",
    "\n",
    "# Load the YOLOv8 Pose model\n",
    "model = YOLO('yolo11x_pose.pt')\n",
    "\n",
    "# Create directories for saving poses\n",
    "os.makedirs('poses/left', exist_ok=True)\n",
    "os.makedirs('poses/right', exist_ok=True)\n",
    "\n",
    "# Initialize webcam\n",
    "cap = cv2.VideoCapture(0)  # Change 0 to your webcam index if needed\n",
    "if not cap.isOpened():\n",
    "    print(\"Error: Unable to access the webcam.\")\n",
    "    exit()\n",
    "\n",
    "tolerance = 10  # Distance threshold for determining horizontal alignment\n",
    "frame_count = 0  # To name saved frames uniquely\n",
    "\n",
    "# Pose detection and saving logic\n",
    "while cap.isOpened():\n",
    "    ret, frame = cap.read()\n",
    "    if not ret:\n",
    "        print(\"Error: Unable to read frame.\")\n",
    "        break\n",
    "\n",
    "    # Run pose estimation\n",
    "    results = model(frame)\n",
    "\n",
    "    # Process each detected person\n",
    "    for result in results:\n",
    "        if hasattr(result, 'keypoints') and result.keypoints is not None:\n",
    "            keypoints = result.keypoints.cpu().numpy()\n",
    "\n",
    "            if keypoints.shape[0] > 0:  # Ensure keypoints are detected\n",
    "                for person_kp in keypoints:\n",
    "                    if person_kp.shape[0] >= 17:  # Ensure at least 17 keypoints are available\n",
    "                        left_wrist, right_wrist = person_kp[9], person_kp[10]\n",
    "                        left_elbow, right_elbow = person_kp[7], person_kp[8]\n",
    "                        print(left_wrist)\n",
    "                        # Confidence threshold for left side\n",
    "                        if left_wrist[2] > 0.5 and left_elbow[2] > 0.5:\n",
    "                            # Check if left wrist and left elbow are horizontally aligned\n",
    "                            if abs(left_wrist[1] - left_elbow[1]) <= tolerance:\n",
    "                                save_path = f\"poses/left/horizontal_left_{frame_count}.jpg\"\n",
    "                                if cv2.imwrite(save_path, frame):\n",
    "                                    print(f\"Saved horizontally aligned left pose: {save_path}\")\n",
    "                                else:\n",
    "                                    print(f\"Error saving horizontal left pose: {save_path}\")\n",
    "                                frame_count += 1\n",
    "\n",
    "                        # Confidence threshold for right side\n",
    "                        if right_wrist[2] > 0.5 and right_elbow[2] > 0.5:\n",
    "                            # Check if right wrist and right elbow are horizontally aligned\n",
    "                            if abs(right_wrist[1] - right_elbow[1]) <= tolerance:\n",
    "                                save_path = f\"poses/right/horizontal_right_{frame_count}.jpg\"\n",
    "                                if cv2.imwrite(save_path, frame):\n",
    "                                    print(f\"Saved horizontally aligned right pose: {save_path}\")\n",
    "                                else:\n",
    "                                    print(f\"Error saving horizontal right pose: {save_path}\")\n",
    "                                frame_count += 1\n",
    "\n",
    "    # Visualize keypoints on frame\n",
    "    annotated_frame = results[0].plot() if hasattr(results[0], 'plot') else frame\n",
    "    cv2.imshow('Pose Detection', annotated_frame)\n",
    "\n",
    "    # Break loop on 'q' key press\n",
    "    if cv2.waitKey(1) & 0xFF == ord('q'):\n",
    "        break\n",
    "\n",
    "cap.release()\n",
    "cv2.destroyAllWindows()"
   ]
  }
 ],
 "metadata": {
  "kernelspec": {
   "display_name": "mtranslate",
   "language": "python",
   "name": "python3"
  },
  "language_info": {
   "codemirror_mode": {
    "name": "ipython",
    "version": 3
   },
   "file_extension": ".py",
   "mimetype": "text/x-python",
   "name": "python",
   "nbconvert_exporter": "python",
   "pygments_lexer": "ipython3",
   "version": "3.10.13"
  }
 },
 "nbformat": 4,
 "nbformat_minor": 2
}
